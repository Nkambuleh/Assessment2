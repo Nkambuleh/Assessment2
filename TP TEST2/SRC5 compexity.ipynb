{
 "cells": [
  {
   "cell_type": "markdown",
   "id": "cefa7f97-f334-435b-ac29-7f2635735276",
   "metadata": {},
   "source": [
    "### Complexity Analysis of Binary Search Algorithm\n",
    "\n",
    "#### Time Complexity:\n",
    "The binary search algorithm divides the search interval in half with each iteration. This property makes it significantly more efficient than linear search for large datasets, provided the data is sorted. The time complexity of binary search can be explained as follows:\n",
    "\n",
    "- **Best Case**: O(1) - The best case occurs when the target value is the middle element of the list.\n",
    "- **Average Case**: O(log n) - On average, the algorithm will reduce the search space by half at each step, resulting in a logarithmic time complexity.\n",
    "- **Worst Case**: O(log n) - The worst case occurs when the target value is not in the list or is located at the end of the search path, still resulting in a logarithmic time complexity.\n",
    "\n",
    "#### Space Complexity:\n",
    "Binary search has a very efficient space complexity because it only requires a few additional variables for its operation:\n",
    "\n",
    "- **Space Complexity**: O(1) - The space complexity is constant because the algorithm uses a fixed amount of extra space regardless of the input size. It only requires space for variables such as `low`, `high`, and `mid`.\n",
    "\n",
    "#### Efficiency:\n",
    "Binary search is highly efficient for searching in large, sorted datasets. Its logarithmic time complexity means that even for very large datasets, the number of comparisons needed is relatively small. For example, a binary search in a list of one million elements would take at most about 20 comparisons (since 2^20 is slightly over one million).\n",
    "\n",
    "In summary, binary search is a powerful algorithm for searching in sorted datasets, offering O(log n) time complexity and O(1) space complexity, making it both time-efficient and space-efficient.\n"
   ]
  },
  {
   "cell_type": "code",
   "execution_count": null,
   "id": "2ed85077-e358-4d17-ae65-658e5b93a010",
   "metadata": {},
   "outputs": [],
   "source": []
  }
 ],
 "metadata": {
  "kernelspec": {
   "display_name": "Python 3 (ipykernel)",
   "language": "python",
   "name": "python3"
  },
  "language_info": {
   "codemirror_mode": {
    "name": "ipython",
    "version": 3
   },
   "file_extension": ".py",
   "mimetype": "text/x-python",
   "name": "python",
   "nbconvert_exporter": "python",
   "pygments_lexer": "ipython3",
   "version": "3.12.3"
  }
 },
 "nbformat": 4,
 "nbformat_minor": 5
}
