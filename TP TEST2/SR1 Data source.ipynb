{
 "cells": [
  {
   "cell_type": "code",
   "execution_count": 1,
   "id": "07c4a158-4c26-40cc-b980-e6ce6d419980",
   "metadata": {},
   "outputs": [],
   "source": [
    "import pandas as pd\n",
    "csv_file_path = 'Dataset2.csv'\n",
    "\n",
    "data = pd.read_csv(r\"C:\\Users\\admin\\Downloads\\Dataset2.csv\")\n",
    "\n",
    "\n"
   ]
  },
  {
   "cell_type": "markdown",
   "id": "63cb9a2c-5aa3-46bb-9f9c-b3c52b6b1399",
   "metadata": {},
   "source": [
    "# Dataset Information: Informal Settlements Data\n",
    "\n",
    "## Dataset Information\n",
    "- **Title:** Informal Settlements Data\n",
    "- **Source:** [World Bank - World Development Indicators](https://data.worldbank.org/indicator/EN.POP.SLUM.UR.ZS)\n",
    "- **Format:** CSV\n",
    "\n",
    "## Justification for Suitability\n",
    "\n",
    "### 1. Data Completeness\n",
    "The dataset includes comprehensive data on various aspects of informal settlements across different regions:\n",
    "- **Country:** Lists the countries included in the dataset, allowing for a global analysis.\n",
    "- **Year:** Indicates the temporal span of the data, enabling time-series analysis.\n",
    "\n",
    "### 2. Relevance\n",
    "The dataset contains specific columns that are highly relevant to the analysis of informal settlements:\n",
    "- **Slum Population:** Provides the number of people living in slums, which is a direct measure of the extent of informal settlements.\n",
    "- **Percentage of Urban Population in Slums:** This column provides the percentage of the urban population living in slums, an important indicator for understanding the prevalence of informal settlements in urban areas.\n",
    "\n",
    "### 3. Credibility of the Source\n",
    "The dataset is sourced from the World Bank, a reputable international financial institution that provides reliable and comprehensive data on various global development indicators, including those related to informal settlements.\n",
    "\n",
    "### Columns Justifying Relevancy to Theme\n",
    "- **Slum Population:** This column is directly related to the extent of informal settlements, providing a clear indicator of the number of people living in substandard housing conditions.\n",
    "- **Percentage of Urban Population in Slums:** This column is crucial for understanding the prevalence of informal settlements within urban areas, offering insights into how widespread these settlements are in different regions.\n",
    "\n",
    "### Conclusion\n",
    "The Informal Settlements Data dataset is comprehensive and highly relevant for analyzing informal settlements. The inclusion of key columns such as the number of people living in slums and the percentage of the urban population in slums makes it particularly valuable for understanding the scale and living conditions of informal settlements globally.\n"
   ]
  },
  {
   "cell_type": "code",
   "execution_count": null,
   "id": "7115bca0-0018-48ea-b175-796d1d9997d7",
   "metadata": {},
   "outputs": [],
   "source": []
  }
 ],
 "metadata": {
  "kernelspec": {
   "display_name": "Python 3 (ipykernel)",
   "language": "python",
   "name": "python3"
  },
  "language_info": {
   "codemirror_mode": {
    "name": "ipython",
    "version": 3
   },
   "file_extension": ".py",
   "mimetype": "text/x-python",
   "name": "python",
   "nbconvert_exporter": "python",
   "pygments_lexer": "ipython3",
   "version": "3.12.3"
  }
 },
 "nbformat": 4,
 "nbformat_minor": 5
}
