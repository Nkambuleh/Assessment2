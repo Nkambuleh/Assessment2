{
 "cells": [
  {
   "cell_type": "code",
   "execution_count": 1,
   "id": "bcb73c12-ce60-4e2a-8639-7747dc33e058",
   "metadata": {},
   "outputs": [
    {
     "name": "stdout",
     "output_type": "stream",
     "text": [
      "First few rows of the dataset:\n"
     ]
    },
    {
     "data": {
      "text/html": [
       "<div>\n",
       "<style scoped>\n",
       "    .dataframe tbody tr th:only-of-type {\n",
       "        vertical-align: middle;\n",
       "    }\n",
       "\n",
       "    .dataframe tbody tr th {\n",
       "        vertical-align: top;\n",
       "    }\n",
       "\n",
       "    .dataframe thead th {\n",
       "        text-align: right;\n",
       "    }\n",
       "</style>\n",
       "<table border=\"1\" class=\"dataframe\">\n",
       "  <thead>\n",
       "    <tr style=\"text-align: right;\">\n",
       "      <th></th>\n",
       "      <th>Settlement Name</th>\n",
       "      <th>Location</th>\n",
       "      <th>Province</th>\n",
       "      <th>Date of Establishment</th>\n",
       "      <th>Initial Population</th>\n",
       "      <th>Current Population</th>\n",
       "      <th>Environmental Hazards</th>\n",
       "      <th>Socio-Economic Factors</th>\n",
       "      <th>Community Initiatives</th>\n",
       "      <th>NGO Involvement</th>\n",
       "      <th>Government Support</th>\n",
       "      <th>Key Challenges</th>\n",
       "      <th>Recent Developments</th>\n",
       "    </tr>\n",
       "  </thead>\n",
       "  <tbody>\n",
       "    <tr>\n",
       "      <th>0</th>\n",
       "      <td>Khayelitsha</td>\n",
       "      <td>Cape Town</td>\n",
       "      <td>Western Cape</td>\n",
       "      <td>1983</td>\n",
       "      <td>100</td>\n",
       "      <td>391749</td>\n",
       "      <td>Flooding</td>\n",
       "      <td>High unemployment</td>\n",
       "      <td>Community health programs</td>\n",
       "      <td>Active</td>\n",
       "      <td>Subsidized housing</td>\n",
       "      <td>Crime</td>\n",
       "      <td>Improved policing</td>\n",
       "    </tr>\n",
       "    <tr>\n",
       "      <th>1</th>\n",
       "      <td>Diepsloot</td>\n",
       "      <td>Johannesburg</td>\n",
       "      <td>Gauteng</td>\n",
       "      <td>1995</td>\n",
       "      <td>100</td>\n",
       "      <td>138329</td>\n",
       "      <td>Pollution</td>\n",
       "      <td>Poverty</td>\n",
       "      <td>Skill development workshops</td>\n",
       "      <td>Limited</td>\n",
       "      <td>Infrastructure upgrades</td>\n",
       "      <td>Overcrowding</td>\n",
       "      <td>New housing units</td>\n",
       "    </tr>\n",
       "    <tr>\n",
       "      <th>2</th>\n",
       "      <td>Alexandra</td>\n",
       "      <td>Johannesburg</td>\n",
       "      <td>Gauteng</td>\n",
       "      <td>1912</td>\n",
       "      <td>100</td>\n",
       "      <td>179624</td>\n",
       "      <td>Air quality issues</td>\n",
       "      <td>High crime rates</td>\n",
       "      <td>Youth programs</td>\n",
       "      <td>Active</td>\n",
       "      <td>Urban renewal projects</td>\n",
       "      <td>Unemployment</td>\n",
       "      <td>New community center</td>\n",
       "    </tr>\n",
       "    <tr>\n",
       "      <th>3</th>\n",
       "      <td>Joe Slovo Park</td>\n",
       "      <td>Cape Town</td>\n",
       "      <td>Western Cape</td>\n",
       "      <td>1990</td>\n",
       "      <td>100</td>\n",
       "      <td>Unknown</td>\n",
       "      <td>Fire hazards</td>\n",
       "      <td>Low literacy</td>\n",
       "      <td>Adult education classes</td>\n",
       "      <td>Active</td>\n",
       "      <td>Rehousing projects</td>\n",
       "      <td>Lack of services</td>\n",
       "      <td>Improved sanitation</td>\n",
       "    </tr>\n",
       "    <tr>\n",
       "      <th>4</th>\n",
       "      <td>Barberton Informal Settlement</td>\n",
       "      <td>Barberton</td>\n",
       "      <td>Mpumalanga</td>\n",
       "      <td>2000</td>\n",
       "      <td>100</td>\n",
       "      <td>Unknown</td>\n",
       "      <td>Water contamination</td>\n",
       "      <td>High disease rates</td>\n",
       "      <td>Health awareness campaigns</td>\n",
       "      <td>Limited</td>\n",
       "      <td>Electrification projects</td>\n",
       "      <td>Illegal connections</td>\n",
       "      <td>New health clinic</td>\n",
       "    </tr>\n",
       "  </tbody>\n",
       "</table>\n",
       "</div>"
      ],
      "text/plain": [
       "                 Settlement Name      Location      Province  \\\n",
       "0                    Khayelitsha     Cape Town  Western Cape   \n",
       "1                      Diepsloot  Johannesburg       Gauteng   \n",
       "2                      Alexandra  Johannesburg       Gauteng   \n",
       "3                 Joe Slovo Park     Cape Town  Western Cape   \n",
       "4  Barberton Informal Settlement     Barberton    Mpumalanga   \n",
       "\n",
       "  Date of Establishment  Initial Population Current Population  \\\n",
       "0                  1983                 100             391749   \n",
       "1                  1995                 100             138329   \n",
       "2                  1912                 100             179624   \n",
       "3                  1990                 100            Unknown   \n",
       "4                  2000                 100            Unknown   \n",
       "\n",
       "  Environmental Hazards Socio-Economic Factors        Community Initiatives  \\\n",
       "0              Flooding      High unemployment    Community health programs   \n",
       "1             Pollution                Poverty  Skill development workshops   \n",
       "2    Air quality issues       High crime rates               Youth programs   \n",
       "3          Fire hazards           Low literacy      Adult education classes   \n",
       "4   Water contamination     High disease rates   Health awareness campaigns   \n",
       "\n",
       "  NGO Involvement        Government Support       Key Challenges  \\\n",
       "0          Active        Subsidized housing                Crime   \n",
       "1         Limited   Infrastructure upgrades         Overcrowding   \n",
       "2          Active    Urban renewal projects         Unemployment   \n",
       "3          Active        Rehousing projects     Lack of services   \n",
       "4         Limited  Electrification projects  Illegal connections   \n",
       "\n",
       "    Recent Developments  \n",
       "0     Improved policing  \n",
       "1     New housing units  \n",
       "2  New community center  \n",
       "3   Improved sanitation  \n",
       "4     New health clinic  "
      ]
     },
     "metadata": {},
     "output_type": "display_data"
    }
   ],
   "source": [
    "import pandas as pd\n",
    "from sklearn.preprocessing import MinMaxScaler\n",
    "\n",
    "data = pd.read_csv(\"C:\\\\Users\\\\admin\\\\Downloads\\\\Dataset2.csv\")\n",
    "print(\"First few rows of the dataset:\")\n",
    "display(data.head())\n"
   ]
  },
  {
   "cell_type": "code",
   "execution_count": 2,
   "id": "b162196e-7e49-452d-94c9-b66bd8c27be6",
   "metadata": {},
   "outputs": [
    {
     "name": "stdout",
     "output_type": "stream",
     "text": [
      "Dataset shape: (45, 13)\n"
     ]
    }
   ],
   "source": [
    "# Get the size of the dataset\n",
    "print(f\"Dataset shape: {data.shape}\")\n"
   ]
  },
  {
   "cell_type": "code",
   "execution_count": 3,
   "id": "d1cfe648-2016-4dc0-89b6-971ce9f4f1e3",
   "metadata": {},
   "outputs": [
    {
     "name": "stdout",
     "output_type": "stream",
     "text": [
      "Settlement Name           object\n",
      "Location                  object\n",
      "Province                  object\n",
      "Date of Establishment     object\n",
      "Initial Population         int64\n",
      "Current Population        object\n",
      "Environmental Hazards     object\n",
      "Socio-Economic Factors    object\n",
      "Community Initiatives     object\n",
      "NGO Involvement           object\n",
      "Government Support        object\n",
      "Key Challenges            object\n",
      "Recent Developments       object\n",
      "dtype: object\n"
     ]
    }
   ],
   "source": [
    "# Display data types of each column\n",
    "print(data.dtypes)"
   ]
  },
  {
   "cell_type": "code",
   "execution_count": 4,
   "id": "e69214b3-17d4-40e8-af36-3a03456dff0b",
   "metadata": {},
   "outputs": [
    {
     "name": "stdout",
     "output_type": "stream",
     "text": [
      "Index(['Settlement Name', 'Location', 'Province', 'Date of Establishment',\n",
      "       'Initial Population', 'Current Population', 'Environmental Hazards',\n",
      "       'Socio-Economic Factors', 'Community Initiatives', 'NGO Involvement',\n",
      "       'Government Support', 'Key Challenges', 'Recent Developments'],\n",
      "      dtype='object')\n"
     ]
    }
   ],
   "source": [
    "# Display column names\n",
    "print(data.columns)"
   ]
  },
  {
   "cell_type": "code",
   "execution_count": 5,
   "id": "650c3886-4b66-43e7-91cf-47e80fdb4975",
   "metadata": {},
   "outputs": [
    {
     "name": "stdout",
     "output_type": "stream",
     "text": [
      "       Initial Population\n",
      "count                45.0\n",
      "mean                100.0\n",
      "std                   0.0\n",
      "min                 100.0\n",
      "25%                 100.0\n",
      "50%                 100.0\n",
      "75%                 100.0\n",
      "max                 100.0\n"
     ]
    }
   ],
   "source": [
    "# Get summary statistics\n",
    "print(data.describe())\n"
   ]
  },
  {
   "cell_type": "code",
   "execution_count": 6,
   "id": "fdeac226-cc8f-44f2-b3da-c101b7e146b9",
   "metadata": {},
   "outputs": [
    {
     "name": "stdout",
     "output_type": "stream",
     "text": [
      "                 Settlement Name      Location      Province  \\\n",
      "0                    Khayelitsha     Cape Town  Western Cape   \n",
      "1                      Diepsloot  Johannesburg       Gauteng   \n",
      "2                      Alexandra  Johannesburg       Gauteng   \n",
      "3                 Joe Slovo Park     Cape Town  Western Cape   \n",
      "4  Barberton Informal Settlement     Barberton    Mpumalanga   \n",
      "\n",
      "  Date of Establishment  Initial Population  \n",
      "0                  1983                 100  \n",
      "1                  1995                 100  \n",
      "2                  1912                 100  \n",
      "3                  1990                 100  \n",
      "4                  2000                 100  \n"
     ]
    }
   ],
   "source": [
    "# Display a sample of rows to understand data slicing and indexing\n",
    "print(data.iloc[:5, :5])  # Display first 5 rows and first 5 columns"
   ]
  },
  {
   "cell_type": "code",
   "execution_count": 7,
   "id": "a89dc0b5-55a6-4c83-b384-998743e29a02",
   "metadata": {},
   "outputs": [
    {
     "name": "stdout",
     "output_type": "stream",
     "text": [
      "Settlement Name           0\n",
      "Location                  0\n",
      "Province                  0\n",
      "Date of Establishment     0\n",
      "Initial Population        0\n",
      "Current Population        0\n",
      "Environmental Hazards     0\n",
      "Socio-Economic Factors    0\n",
      "Community Initiatives     0\n",
      "NGO Involvement           0\n",
      "Government Support        0\n",
      "Key Challenges            0\n",
      "Recent Developments       0\n",
      "dtype: int64\n"
     ]
    }
   ],
   "source": [
    "# Check for missing values\n",
    "missing_data = data.isnull().sum()\n",
    "print(missing_data)\n"
   ]
  },
  {
   "cell_type": "code",
   "execution_count": 8,
   "id": "878e53ab-85a5-4565-ba31-303284826136",
   "metadata": {},
   "outputs": [
    {
     "name": "stdout",
     "output_type": "stream",
     "text": [
      "Summary statistics for 'Initial Population':\n",
      "count     45.0\n",
      "mean     100.0\n",
      "std        0.0\n",
      "min      100.0\n",
      "25%      100.0\n",
      "50%      100.0\n",
      "75%      100.0\n",
      "max      100.0\n",
      "Name: Initial Population, dtype: float64\n"
     ]
    }
   ],
   "source": [
    "print(\"Summary statistics for 'Initial Population':\")\n",
    "print(data['Initial Population'].describe())\n"
   ]
  },
  {
   "cell_type": "code",
   "execution_count": 9,
   "id": "6f6ca843-de88-469b-a2fd-c27611994da7",
   "metadata": {},
   "outputs": [
    {
     "name": "stdout",
     "output_type": "stream",
     "text": [
      "Numeric columns to normalize: Index(['Initial Population'], dtype='object')\n",
      "   Initial Population\n",
      "0                 0.0\n",
      "1                 0.0\n",
      "2                 0.0\n",
      "3                 0.0\n",
      "4                 0.0\n"
     ]
    }
   ],
   "source": [
    "import pandas as pd\n",
    "from sklearn.preprocessing import StandardScaler\n",
    "from sklearn.impute import SimpleImputer\n",
    "\n",
    "# Assuming data is your DataFrame containing the dataset\n",
    "numeric_columns = data.select_dtypes(include=['float64', 'int64']).columns\n",
    "print(f\"Numeric columns to normalize: {numeric_columns}\")\n",
    "\n",
    "# Impute missing values\n",
    "imputer = SimpleImputer(strategy='mean')\n",
    "data[numeric_columns] = imputer.fit_transform(data[numeric_columns])\n",
    "\n",
    "# Standardize the selected columns\n",
    "scaler = StandardScaler()\n",
    "data[numeric_columns] = scaler.fit_transform(data[numeric_columns])\n",
    "\n",
    "# Display the normalized data\n",
    "print(data[numeric_columns].head())\n"
   ]
  },
  {
   "cell_type": "markdown",
   "id": "2e755607-1cde-4152-8e8f-f1b19055a35c",
   "metadata": {},
   "source": [
    "# Data Types in Relation to Machine Learning\n",
    "\n",
    "## Percentage of Urban Population in Slums\n",
    "The \"Percentage of Urban Population in Slums\" column is a continuous variable, which represents the proportion of the urban population living in slums. \n",
    "\n",
    "### Data Type: \n",
    "- **Continuous Numeric**: This data type is appropriate for regression analysis, where the goal is to predict a continuous outcome. It can also be used as a feature in classification tasks.\n",
    "\n",
    "### Use in Machine Learning:\n",
    "- **Regression Models**: Can be used as the target variable in regression models to predict the percentage of urban population living in slums based on other socio-economic factors.\n",
    "- **Classification Models**: Can be used as a feature to classify urban areas into different categories (e.g., high slum population vs. low slum population).\n",
    "- **Clustering**: Can be used in clustering algorithms to group similar urban areas based on the percentage of population living in slums.\n",
    "\n",
    "### Example in Dataset:\n",
    "The normalized version of this column, if needed for certain algorithms, ensures that all features contribute equally to the analysis and are on a comparable scale.\n"
   ]
  },
  {
   "cell_type": "code",
   "execution_count": null,
   "id": "2444aceb-1a0b-4e25-8906-60788d8c3c25",
   "metadata": {},
   "outputs": [],
   "source": []
  }
 ],
 "metadata": {
  "kernelspec": {
   "display_name": "Python 3 (ipykernel)",
   "language": "python",
   "name": "python3"
  },
  "language_info": {
   "codemirror_mode": {
    "name": "ipython",
    "version": 3
   },
   "file_extension": ".py",
   "mimetype": "text/x-python",
   "name": "python",
   "nbconvert_exporter": "python",
   "pygments_lexer": "ipython3",
   "version": "3.12.3"
  }
 },
 "nbformat": 4,
 "nbformat_minor": 5
}
