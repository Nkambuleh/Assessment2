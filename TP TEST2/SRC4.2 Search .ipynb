{
 "cells": [
  {
   "cell_type": "markdown",
   "id": "ae70f26a-5aa7-418e-8cce-30c216011873",
   "metadata": {},
   "source": [
    "### Search Algorithms: Linear Search vs. Binary Search\n",
    "\n",
    "#### Linear Search\n",
    "Linear search is a simple search algorithm that checks every element in a list sequentially until the desired element is found or the list ends. Its performance is as follows:\n",
    "\n",
    "- **Time Complexity**: O(n), where n is the number of elements in the list.\n",
    "- **Performance**: Linear search is straightforward but can be slow for large lists because it may need to check each element one by one.\n",
    "\n",
    "#### Binary Search\n",
    "Binary search is a more efficient algorithm that requires the list to be sorted. It repeatedly divides the list in half, eliminating half of the elements from consideration at each step. Its performance is as follows:\n",
    "\n",
    "- **Time Complexity**: O(log n), where n is the number of elements in the list.\n",
    "- **Performance**: Binary search is much faster than linear search for large, sorted lists because it reduces the search space exponentially.\n",
    "\n",
    "#### Comparison\n",
    "Binary search performs faster than linear search for large datasets, but it requires the data to be sorted. Linear search does not require sorted data and is simpler to implement but can be inefficient for large lists.\n"
   ]
  },
  {
   "cell_type": "code",
   "execution_count": 2,
   "id": "1b6c71a1-66fc-4d5a-979e-617d40d664f3",
   "metadata": {},
   "outputs": [
    {
     "name": "stdout",
     "output_type": "stream",
     "text": [
      "Linear Search: Element 'Durban' found at index 6\n"
     ]
    }
   ],
   "source": [
    "import pandas as pd\n",
    "\n",
    "\n",
    "# Load the dataset\n",
    "data = pd.read_csv(\"C:\\\\Users\\\\admin\\\\Downloads\\\\Dataset2.csv\")\n",
    "\n",
    "# Linear Search function\n",
    "def linear_search(data, column, target):\n",
    "    for index, value in enumerate(data[column]):\n",
    "        if value == target:\n",
    "            return index\n",
    "    return -1\n",
    "\n",
    "# Specify the column and target value\n",
    "column_name = 'Location'\n",
    "target_value = 'Durban'\n",
    "\n",
    "# Performing Linear Search\n",
    "linear_result = linear_search(data, column_name, target_value)\n",
    "print(f\"Linear Search: Element '{target_value}' found at index {linear_result}\")\n",
    "\n",
    "\n"
   ]
  },
  {
   "cell_type": "code",
   "execution_count": 4,
   "id": "8f3f242d-3547-4fad-8154-51ee1594f608",
   "metadata": {},
   "outputs": [
    {
     "name": "stdout",
     "output_type": "stream",
     "text": [
      "Binary Search: Element 'Durban' found at index 16 (in sorted list)\n"
     ]
    }
   ],
   "source": [
    "# Binary Search function (Requires sorted data)\n",
    "def binary_search(data, column, target):\n",
    "    sorted_data = data.sort_values(by=column).reset_index(drop=True)\n",
    "    low, high = 0, len(sorted_data) - 1\n",
    "    \n",
    "    while low <= high:\n",
    "        mid = (low + high) // 2\n",
    "        if sorted_data.loc[mid, column] == target:\n",
    "            return mid\n",
    "        elif sorted_data.loc[mid, column] < target:\n",
    "            low = mid + 1\n",
    "        else:\n",
    "            high = mid - 1\n",
    "            \n",
    "    return -1\n",
    "\n",
    "# Specify the column and target value (Same as above)\n",
    "column_name = 'Location'\n",
    "target_value = 'Durban'\n",
    "\n",
    "# Performing Binary Search\n",
    "binary_result = binary_search(data, column_name, target_value)\n",
    "print(f\"Binary Search: Element '{target_value}' found at index {binary_result} (in sorted list)\")\n"
   ]
  },
  {
   "cell_type": "code",
   "execution_count": null,
   "id": "e51646a1-6fb1-44a3-ac8d-ef2fecd46e3c",
   "metadata": {},
   "outputs": [],
   "source": []
  }
 ],
 "metadata": {
  "kernelspec": {
   "display_name": "Python 3 (ipykernel)",
   "language": "python",
   "name": "python3"
  },
  "language_info": {
   "codemirror_mode": {
    "name": "ipython",
    "version": 3
   },
   "file_extension": ".py",
   "mimetype": "text/x-python",
   "name": "python",
   "nbconvert_exporter": "python",
   "pygments_lexer": "ipython3",
   "version": "3.12.3"
  }
 },
 "nbformat": 4,
 "nbformat_minor": 5
}
